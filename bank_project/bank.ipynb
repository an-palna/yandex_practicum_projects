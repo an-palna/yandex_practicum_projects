{
 "cells": [
  {
   "cell_type": "markdown",
   "metadata": {
    "toc": true
   },
   "source": [
    "<h1>Содержание<span class=\"tocSkip\"></span></h1>\n",
    "<div class=\"toc\"><ul class=\"toc-item\"><li><span><a href=\"#Подготовка-данных\" data-toc-modified-id=\"Подготовка-данных-1\"><span class=\"toc-item-num\">1&nbsp;&nbsp;</span>Подготовка данных</a></span></li><li><span><a href=\"#Исследование-задачи\" data-toc-modified-id=\"Исследование-задачи-2\"><span class=\"toc-item-num\">2&nbsp;&nbsp;</span>Исследование задачи</a></span></li><li><span><a href=\"#Борьба-с-дисбалансом\" data-toc-modified-id=\"Борьба-с-дисбалансом-3\"><span class=\"toc-item-num\">3&nbsp;&nbsp;</span>Борьба с дисбалансом</a></span></li><li><span><a href=\"#Тестирование-модели\" data-toc-modified-id=\"Тестирование-модели-4\"><span class=\"toc-item-num\">4&nbsp;&nbsp;</span>Тестирование модели</a></span></li></ul></div>"
   ]
  },
  {
   "cell_type": "markdown",
   "metadata": {},
   "source": [
    "Необходимо спрогнозировать, уйдет клиент из банка или нет, используя исторические данные о поведении клиентов.\n",
    "\n",
    "Источник данных: [https://www.kaggle.com/barelydedicated/bank-customer-churn-modeling](https://www.kaggle.com/barelydedicated/bank-customer-churn-modeling)\n",
    "\n",
    "Признаки\n",
    "* RowNumber — индекс строки в данных\n",
    "* CustomerId — уникальный идентификатор клиента\n",
    "* Surname — фамилия\n",
    "* CreditScore — кредитный рейтинг\n",
    "* Geography — страна проживания\n",
    "* Gender — пол\n",
    "* Age — возраст\n",
    "* Tenure — сколько лет человек является клиентом банка\n",
    "* Balance — баланс на счёте\n",
    "* NumOfProducts — количество продуктов банка, используемых клиентом\n",
    "* HasCrCard — наличие кредитной карты\n",
    "* IsActiveMember — активность клиента\n",
    "* EstimatedSalary — предполагаемая зарплата\n",
    "\n",
    "Целевой признак\n",
    "* Exited — факт ухода клиента"
   ]
  },
  {
   "cell_type": "markdown",
   "metadata": {},
   "source": [
    "## Подготовка данных"
   ]
  },
  {
   "cell_type": "code",
   "execution_count": 2,
   "metadata": {},
   "outputs": [],
   "source": [
    "import pandas as pd\n",
    "import matplotlib.pyplot as plt\n",
    "\n",
    "from sklearn.model_selection import train_test_split\n",
    "from sklearn.preprocessing import StandardScaler\n",
    "from sklearn.tree import DecisionTreeClassifier\n",
    "from sklearn.ensemble import RandomForestClassifier\n",
    "from sklearn.linear_model import LogisticRegression\n",
    "from sklearn.metrics import f1_score\n",
    "from sklearn.metrics import roc_auc_score\n",
    "from sklearn.utils import shuffle\n",
    "from sklearn.model_selection import GridSearchCV"
   ]
  },
  {
   "cell_type": "code",
   "execution_count": 3,
   "metadata": {},
   "outputs": [],
   "source": [
    "data = pd.read_csv('/datasets/Churn.csv')"
   ]
  },
  {
   "cell_type": "code",
   "execution_count": 3,
   "metadata": {},
   "outputs": [
    {
     "name": "stdout",
     "output_type": "stream",
     "text": [
      "<class 'pandas.core.frame.DataFrame'>\n",
      "RangeIndex: 10000 entries, 0 to 9999\n",
      "Data columns (total 14 columns):\n",
      " #   Column           Non-Null Count  Dtype  \n",
      "---  ------           --------------  -----  \n",
      " 0   RowNumber        10000 non-null  int64  \n",
      " 1   CustomerId       10000 non-null  int64  \n",
      " 2   Surname          10000 non-null  object \n",
      " 3   CreditScore      10000 non-null  int64  \n",
      " 4   Geography        10000 non-null  object \n",
      " 5   Gender           10000 non-null  object \n",
      " 6   Age              10000 non-null  int64  \n",
      " 7   Tenure           9091 non-null   float64\n",
      " 8   Balance          10000 non-null  float64\n",
      " 9   NumOfProducts    10000 non-null  int64  \n",
      " 10  HasCrCard        10000 non-null  int64  \n",
      " 11  IsActiveMember   10000 non-null  int64  \n",
      " 12  EstimatedSalary  10000 non-null  float64\n",
      " 13  Exited           10000 non-null  int64  \n",
      "dtypes: float64(3), int64(8), object(3)\n",
      "memory usage: 1.1+ MB\n"
     ]
    }
   ],
   "source": [
    "data.info()"
   ]
  },
  {
   "cell_type": "code",
   "execution_count": 4,
   "metadata": {},
   "outputs": [
    {
     "data": {
      "text/html": [
       "<div>\n",
       "<style scoped>\n",
       "    .dataframe tbody tr th:only-of-type {\n",
       "        vertical-align: middle;\n",
       "    }\n",
       "\n",
       "    .dataframe tbody tr th {\n",
       "        vertical-align: top;\n",
       "    }\n",
       "\n",
       "    .dataframe thead th {\n",
       "        text-align: right;\n",
       "    }\n",
       "</style>\n",
       "<table border=\"1\" class=\"dataframe\">\n",
       "  <thead>\n",
       "    <tr style=\"text-align: right;\">\n",
       "      <th></th>\n",
       "      <th>RowNumber</th>\n",
       "      <th>CustomerId</th>\n",
       "      <th>Surname</th>\n",
       "      <th>CreditScore</th>\n",
       "      <th>Geography</th>\n",
       "      <th>Gender</th>\n",
       "      <th>Age</th>\n",
       "      <th>Tenure</th>\n",
       "      <th>Balance</th>\n",
       "      <th>NumOfProducts</th>\n",
       "      <th>HasCrCard</th>\n",
       "      <th>IsActiveMember</th>\n",
       "      <th>EstimatedSalary</th>\n",
       "      <th>Exited</th>\n",
       "    </tr>\n",
       "  </thead>\n",
       "  <tbody>\n",
       "    <tr>\n",
       "      <th>0</th>\n",
       "      <td>1</td>\n",
       "      <td>15634602</td>\n",
       "      <td>Hargrave</td>\n",
       "      <td>619</td>\n",
       "      <td>France</td>\n",
       "      <td>Female</td>\n",
       "      <td>42</td>\n",
       "      <td>2.0</td>\n",
       "      <td>0.00</td>\n",
       "      <td>1</td>\n",
       "      <td>1</td>\n",
       "      <td>1</td>\n",
       "      <td>101348.88</td>\n",
       "      <td>1</td>\n",
       "    </tr>\n",
       "    <tr>\n",
       "      <th>1</th>\n",
       "      <td>2</td>\n",
       "      <td>15647311</td>\n",
       "      <td>Hill</td>\n",
       "      <td>608</td>\n",
       "      <td>Spain</td>\n",
       "      <td>Female</td>\n",
       "      <td>41</td>\n",
       "      <td>1.0</td>\n",
       "      <td>83807.86</td>\n",
       "      <td>1</td>\n",
       "      <td>0</td>\n",
       "      <td>1</td>\n",
       "      <td>112542.58</td>\n",
       "      <td>0</td>\n",
       "    </tr>\n",
       "    <tr>\n",
       "      <th>2</th>\n",
       "      <td>3</td>\n",
       "      <td>15619304</td>\n",
       "      <td>Onio</td>\n",
       "      <td>502</td>\n",
       "      <td>France</td>\n",
       "      <td>Female</td>\n",
       "      <td>42</td>\n",
       "      <td>8.0</td>\n",
       "      <td>159660.80</td>\n",
       "      <td>3</td>\n",
       "      <td>1</td>\n",
       "      <td>0</td>\n",
       "      <td>113931.57</td>\n",
       "      <td>1</td>\n",
       "    </tr>\n",
       "    <tr>\n",
       "      <th>3</th>\n",
       "      <td>4</td>\n",
       "      <td>15701354</td>\n",
       "      <td>Boni</td>\n",
       "      <td>699</td>\n",
       "      <td>France</td>\n",
       "      <td>Female</td>\n",
       "      <td>39</td>\n",
       "      <td>1.0</td>\n",
       "      <td>0.00</td>\n",
       "      <td>2</td>\n",
       "      <td>0</td>\n",
       "      <td>0</td>\n",
       "      <td>93826.63</td>\n",
       "      <td>0</td>\n",
       "    </tr>\n",
       "    <tr>\n",
       "      <th>4</th>\n",
       "      <td>5</td>\n",
       "      <td>15737888</td>\n",
       "      <td>Mitchell</td>\n",
       "      <td>850</td>\n",
       "      <td>Spain</td>\n",
       "      <td>Female</td>\n",
       "      <td>43</td>\n",
       "      <td>2.0</td>\n",
       "      <td>125510.82</td>\n",
       "      <td>1</td>\n",
       "      <td>1</td>\n",
       "      <td>1</td>\n",
       "      <td>79084.10</td>\n",
       "      <td>0</td>\n",
       "    </tr>\n",
       "  </tbody>\n",
       "</table>\n",
       "</div>"
      ],
      "text/plain": [
       "   RowNumber  CustomerId   Surname  CreditScore Geography  Gender  Age  \\\n",
       "0          1    15634602  Hargrave          619    France  Female   42   \n",
       "1          2    15647311      Hill          608     Spain  Female   41   \n",
       "2          3    15619304      Onio          502    France  Female   42   \n",
       "3          4    15701354      Boni          699    France  Female   39   \n",
       "4          5    15737888  Mitchell          850     Spain  Female   43   \n",
       "\n",
       "   Tenure    Balance  NumOfProducts  HasCrCard  IsActiveMember  \\\n",
       "0     2.0       0.00              1          1               1   \n",
       "1     1.0   83807.86              1          0               1   \n",
       "2     8.0  159660.80              3          1               0   \n",
       "3     1.0       0.00              2          0               0   \n",
       "4     2.0  125510.82              1          1               1   \n",
       "\n",
       "   EstimatedSalary  Exited  \n",
       "0        101348.88       1  \n",
       "1        112542.58       0  \n",
       "2        113931.57       1  \n",
       "3         93826.63       0  \n",
       "4         79084.10       0  "
      ]
     },
     "execution_count": 4,
     "metadata": {},
     "output_type": "execute_result"
    }
   ],
   "source": [
    "data.head()"
   ]
  },
  {
   "cell_type": "markdown",
   "metadata": {},
   "source": [
    "Есть пропуски в \"сколько лет человек является клиентом банка\" - заменим их на медиану, так как этот показатель не возможно привязать ни к какому другому показателю."
   ]
  },
  {
   "cell_type": "code",
   "execution_count": 5,
   "metadata": {},
   "outputs": [
    {
     "data": {
      "text/html": [
       "<div>\n",
       "<style scoped>\n",
       "    .dataframe tbody tr th:only-of-type {\n",
       "        vertical-align: middle;\n",
       "    }\n",
       "\n",
       "    .dataframe tbody tr th {\n",
       "        vertical-align: top;\n",
       "    }\n",
       "\n",
       "    .dataframe thead th {\n",
       "        text-align: right;\n",
       "    }\n",
       "</style>\n",
       "<table border=\"1\" class=\"dataframe\">\n",
       "  <thead>\n",
       "    <tr style=\"text-align: right;\">\n",
       "      <th></th>\n",
       "      <th>RowNumber</th>\n",
       "      <th>CustomerId</th>\n",
       "      <th>CreditScore</th>\n",
       "      <th>Age</th>\n",
       "      <th>Tenure</th>\n",
       "      <th>Balance</th>\n",
       "      <th>NumOfProducts</th>\n",
       "      <th>HasCrCard</th>\n",
       "      <th>IsActiveMember</th>\n",
       "      <th>EstimatedSalary</th>\n",
       "      <th>Exited</th>\n",
       "    </tr>\n",
       "  </thead>\n",
       "  <tbody>\n",
       "    <tr>\n",
       "      <th>count</th>\n",
       "      <td>10000.00000</td>\n",
       "      <td>1.000000e+04</td>\n",
       "      <td>10000.000000</td>\n",
       "      <td>10000.000000</td>\n",
       "      <td>9091.000000</td>\n",
       "      <td>10000.000000</td>\n",
       "      <td>10000.000000</td>\n",
       "      <td>10000.00000</td>\n",
       "      <td>10000.000000</td>\n",
       "      <td>10000.000000</td>\n",
       "      <td>10000.000000</td>\n",
       "    </tr>\n",
       "    <tr>\n",
       "      <th>mean</th>\n",
       "      <td>5000.50000</td>\n",
       "      <td>1.569094e+07</td>\n",
       "      <td>650.528800</td>\n",
       "      <td>38.921800</td>\n",
       "      <td>4.997690</td>\n",
       "      <td>76485.889288</td>\n",
       "      <td>1.530200</td>\n",
       "      <td>0.70550</td>\n",
       "      <td>0.515100</td>\n",
       "      <td>100090.239881</td>\n",
       "      <td>0.203700</td>\n",
       "    </tr>\n",
       "    <tr>\n",
       "      <th>std</th>\n",
       "      <td>2886.89568</td>\n",
       "      <td>7.193619e+04</td>\n",
       "      <td>96.653299</td>\n",
       "      <td>10.487806</td>\n",
       "      <td>2.894723</td>\n",
       "      <td>62397.405202</td>\n",
       "      <td>0.581654</td>\n",
       "      <td>0.45584</td>\n",
       "      <td>0.499797</td>\n",
       "      <td>57510.492818</td>\n",
       "      <td>0.402769</td>\n",
       "    </tr>\n",
       "    <tr>\n",
       "      <th>min</th>\n",
       "      <td>1.00000</td>\n",
       "      <td>1.556570e+07</td>\n",
       "      <td>350.000000</td>\n",
       "      <td>18.000000</td>\n",
       "      <td>0.000000</td>\n",
       "      <td>0.000000</td>\n",
       "      <td>1.000000</td>\n",
       "      <td>0.00000</td>\n",
       "      <td>0.000000</td>\n",
       "      <td>11.580000</td>\n",
       "      <td>0.000000</td>\n",
       "    </tr>\n",
       "    <tr>\n",
       "      <th>25%</th>\n",
       "      <td>2500.75000</td>\n",
       "      <td>1.562853e+07</td>\n",
       "      <td>584.000000</td>\n",
       "      <td>32.000000</td>\n",
       "      <td>2.000000</td>\n",
       "      <td>0.000000</td>\n",
       "      <td>1.000000</td>\n",
       "      <td>0.00000</td>\n",
       "      <td>0.000000</td>\n",
       "      <td>51002.110000</td>\n",
       "      <td>0.000000</td>\n",
       "    </tr>\n",
       "    <tr>\n",
       "      <th>50%</th>\n",
       "      <td>5000.50000</td>\n",
       "      <td>1.569074e+07</td>\n",
       "      <td>652.000000</td>\n",
       "      <td>37.000000</td>\n",
       "      <td>5.000000</td>\n",
       "      <td>97198.540000</td>\n",
       "      <td>1.000000</td>\n",
       "      <td>1.00000</td>\n",
       "      <td>1.000000</td>\n",
       "      <td>100193.915000</td>\n",
       "      <td>0.000000</td>\n",
       "    </tr>\n",
       "    <tr>\n",
       "      <th>75%</th>\n",
       "      <td>7500.25000</td>\n",
       "      <td>1.575323e+07</td>\n",
       "      <td>718.000000</td>\n",
       "      <td>44.000000</td>\n",
       "      <td>7.000000</td>\n",
       "      <td>127644.240000</td>\n",
       "      <td>2.000000</td>\n",
       "      <td>1.00000</td>\n",
       "      <td>1.000000</td>\n",
       "      <td>149388.247500</td>\n",
       "      <td>0.000000</td>\n",
       "    </tr>\n",
       "    <tr>\n",
       "      <th>max</th>\n",
       "      <td>10000.00000</td>\n",
       "      <td>1.581569e+07</td>\n",
       "      <td>850.000000</td>\n",
       "      <td>92.000000</td>\n",
       "      <td>10.000000</td>\n",
       "      <td>250898.090000</td>\n",
       "      <td>4.000000</td>\n",
       "      <td>1.00000</td>\n",
       "      <td>1.000000</td>\n",
       "      <td>199992.480000</td>\n",
       "      <td>1.000000</td>\n",
       "    </tr>\n",
       "  </tbody>\n",
       "</table>\n",
       "</div>"
      ],
      "text/plain": [
       "         RowNumber    CustomerId   CreditScore           Age       Tenure  \\\n",
       "count  10000.00000  1.000000e+04  10000.000000  10000.000000  9091.000000   \n",
       "mean    5000.50000  1.569094e+07    650.528800     38.921800     4.997690   \n",
       "std     2886.89568  7.193619e+04     96.653299     10.487806     2.894723   \n",
       "min        1.00000  1.556570e+07    350.000000     18.000000     0.000000   \n",
       "25%     2500.75000  1.562853e+07    584.000000     32.000000     2.000000   \n",
       "50%     5000.50000  1.569074e+07    652.000000     37.000000     5.000000   \n",
       "75%     7500.25000  1.575323e+07    718.000000     44.000000     7.000000   \n",
       "max    10000.00000  1.581569e+07    850.000000     92.000000    10.000000   \n",
       "\n",
       "             Balance  NumOfProducts    HasCrCard  IsActiveMember  \\\n",
       "count   10000.000000   10000.000000  10000.00000    10000.000000   \n",
       "mean    76485.889288       1.530200      0.70550        0.515100   \n",
       "std     62397.405202       0.581654      0.45584        0.499797   \n",
       "min         0.000000       1.000000      0.00000        0.000000   \n",
       "25%         0.000000       1.000000      0.00000        0.000000   \n",
       "50%     97198.540000       1.000000      1.00000        1.000000   \n",
       "75%    127644.240000       2.000000      1.00000        1.000000   \n",
       "max    250898.090000       4.000000      1.00000        1.000000   \n",
       "\n",
       "       EstimatedSalary        Exited  \n",
       "count     10000.000000  10000.000000  \n",
       "mean     100090.239881      0.203700  \n",
       "std       57510.492818      0.402769  \n",
       "min          11.580000      0.000000  \n",
       "25%       51002.110000      0.000000  \n",
       "50%      100193.915000      0.000000  \n",
       "75%      149388.247500      0.000000  \n",
       "max      199992.480000      1.000000  "
      ]
     },
     "execution_count": 5,
     "metadata": {},
     "output_type": "execute_result"
    }
   ],
   "source": [
    "data.describe()"
   ]
  },
  {
   "cell_type": "code",
   "execution_count": 4,
   "metadata": {},
   "outputs": [],
   "source": [
    "# заполним пропуски медианным значением\n",
    "data['Tenure'] = data['Tenure'].fillna(data['Tenure'].median())"
   ]
  },
  {
   "cell_type": "code",
   "execution_count": 7,
   "metadata": {},
   "outputs": [
    {
     "data": {
      "text/html": [
       "<div>\n",
       "<style scoped>\n",
       "    .dataframe tbody tr th:only-of-type {\n",
       "        vertical-align: middle;\n",
       "    }\n",
       "\n",
       "    .dataframe tbody tr th {\n",
       "        vertical-align: top;\n",
       "    }\n",
       "\n",
       "    .dataframe thead th {\n",
       "        text-align: right;\n",
       "    }\n",
       "</style>\n",
       "<table border=\"1\" class=\"dataframe\">\n",
       "  <thead>\n",
       "    <tr style=\"text-align: right;\">\n",
       "      <th></th>\n",
       "      <th>RowNumber</th>\n",
       "      <th>CustomerId</th>\n",
       "      <th>CreditScore</th>\n",
       "      <th>Age</th>\n",
       "      <th>Tenure</th>\n",
       "      <th>Balance</th>\n",
       "      <th>NumOfProducts</th>\n",
       "      <th>HasCrCard</th>\n",
       "      <th>IsActiveMember</th>\n",
       "      <th>EstimatedSalary</th>\n",
       "      <th>Exited</th>\n",
       "    </tr>\n",
       "  </thead>\n",
       "  <tbody>\n",
       "    <tr>\n",
       "      <th>count</th>\n",
       "      <td>10000.00000</td>\n",
       "      <td>1.000000e+04</td>\n",
       "      <td>10000.000000</td>\n",
       "      <td>10000.000000</td>\n",
       "      <td>10000.00000</td>\n",
       "      <td>10000.000000</td>\n",
       "      <td>10000.000000</td>\n",
       "      <td>10000.00000</td>\n",
       "      <td>10000.000000</td>\n",
       "      <td>10000.000000</td>\n",
       "      <td>10000.000000</td>\n",
       "    </tr>\n",
       "    <tr>\n",
       "      <th>mean</th>\n",
       "      <td>5000.50000</td>\n",
       "      <td>1.569094e+07</td>\n",
       "      <td>650.528800</td>\n",
       "      <td>38.921800</td>\n",
       "      <td>4.99790</td>\n",
       "      <td>76485.889288</td>\n",
       "      <td>1.530200</td>\n",
       "      <td>0.70550</td>\n",
       "      <td>0.515100</td>\n",
       "      <td>100090.239881</td>\n",
       "      <td>0.203700</td>\n",
       "    </tr>\n",
       "    <tr>\n",
       "      <th>std</th>\n",
       "      <td>2886.89568</td>\n",
       "      <td>7.193619e+04</td>\n",
       "      <td>96.653299</td>\n",
       "      <td>10.487806</td>\n",
       "      <td>2.76001</td>\n",
       "      <td>62397.405202</td>\n",
       "      <td>0.581654</td>\n",
       "      <td>0.45584</td>\n",
       "      <td>0.499797</td>\n",
       "      <td>57510.492818</td>\n",
       "      <td>0.402769</td>\n",
       "    </tr>\n",
       "    <tr>\n",
       "      <th>min</th>\n",
       "      <td>1.00000</td>\n",
       "      <td>1.556570e+07</td>\n",
       "      <td>350.000000</td>\n",
       "      <td>18.000000</td>\n",
       "      <td>0.00000</td>\n",
       "      <td>0.000000</td>\n",
       "      <td>1.000000</td>\n",
       "      <td>0.00000</td>\n",
       "      <td>0.000000</td>\n",
       "      <td>11.580000</td>\n",
       "      <td>0.000000</td>\n",
       "    </tr>\n",
       "    <tr>\n",
       "      <th>25%</th>\n",
       "      <td>2500.75000</td>\n",
       "      <td>1.562853e+07</td>\n",
       "      <td>584.000000</td>\n",
       "      <td>32.000000</td>\n",
       "      <td>3.00000</td>\n",
       "      <td>0.000000</td>\n",
       "      <td>1.000000</td>\n",
       "      <td>0.00000</td>\n",
       "      <td>0.000000</td>\n",
       "      <td>51002.110000</td>\n",
       "      <td>0.000000</td>\n",
       "    </tr>\n",
       "    <tr>\n",
       "      <th>50%</th>\n",
       "      <td>5000.50000</td>\n",
       "      <td>1.569074e+07</td>\n",
       "      <td>652.000000</td>\n",
       "      <td>37.000000</td>\n",
       "      <td>5.00000</td>\n",
       "      <td>97198.540000</td>\n",
       "      <td>1.000000</td>\n",
       "      <td>1.00000</td>\n",
       "      <td>1.000000</td>\n",
       "      <td>100193.915000</td>\n",
       "      <td>0.000000</td>\n",
       "    </tr>\n",
       "    <tr>\n",
       "      <th>75%</th>\n",
       "      <td>7500.25000</td>\n",
       "      <td>1.575323e+07</td>\n",
       "      <td>718.000000</td>\n",
       "      <td>44.000000</td>\n",
       "      <td>7.00000</td>\n",
       "      <td>127644.240000</td>\n",
       "      <td>2.000000</td>\n",
       "      <td>1.00000</td>\n",
       "      <td>1.000000</td>\n",
       "      <td>149388.247500</td>\n",
       "      <td>0.000000</td>\n",
       "    </tr>\n",
       "    <tr>\n",
       "      <th>max</th>\n",
       "      <td>10000.00000</td>\n",
       "      <td>1.581569e+07</td>\n",
       "      <td>850.000000</td>\n",
       "      <td>92.000000</td>\n",
       "      <td>10.00000</td>\n",
       "      <td>250898.090000</td>\n",
       "      <td>4.000000</td>\n",
       "      <td>1.00000</td>\n",
       "      <td>1.000000</td>\n",
       "      <td>199992.480000</td>\n",
       "      <td>1.000000</td>\n",
       "    </tr>\n",
       "  </tbody>\n",
       "</table>\n",
       "</div>"
      ],
      "text/plain": [
       "         RowNumber    CustomerId   CreditScore           Age       Tenure  \\\n",
       "count  10000.00000  1.000000e+04  10000.000000  10000.000000  10000.00000   \n",
       "mean    5000.50000  1.569094e+07    650.528800     38.921800      4.99790   \n",
       "std     2886.89568  7.193619e+04     96.653299     10.487806      2.76001   \n",
       "min        1.00000  1.556570e+07    350.000000     18.000000      0.00000   \n",
       "25%     2500.75000  1.562853e+07    584.000000     32.000000      3.00000   \n",
       "50%     5000.50000  1.569074e+07    652.000000     37.000000      5.00000   \n",
       "75%     7500.25000  1.575323e+07    718.000000     44.000000      7.00000   \n",
       "max    10000.00000  1.581569e+07    850.000000     92.000000     10.00000   \n",
       "\n",
       "             Balance  NumOfProducts    HasCrCard  IsActiveMember  \\\n",
       "count   10000.000000   10000.000000  10000.00000    10000.000000   \n",
       "mean    76485.889288       1.530200      0.70550        0.515100   \n",
       "std     62397.405202       0.581654      0.45584        0.499797   \n",
       "min         0.000000       1.000000      0.00000        0.000000   \n",
       "25%         0.000000       1.000000      0.00000        0.000000   \n",
       "50%     97198.540000       1.000000      1.00000        1.000000   \n",
       "75%    127644.240000       2.000000      1.00000        1.000000   \n",
       "max    250898.090000       4.000000      1.00000        1.000000   \n",
       "\n",
       "       EstimatedSalary        Exited  \n",
       "count     10000.000000  10000.000000  \n",
       "mean     100090.239881      0.203700  \n",
       "std       57510.492818      0.402769  \n",
       "min          11.580000      0.000000  \n",
       "25%       51002.110000      0.000000  \n",
       "50%      100193.915000      0.000000  \n",
       "75%      149388.247500      0.000000  \n",
       "max      199992.480000      1.000000  "
      ]
     },
     "execution_count": 7,
     "metadata": {},
     "output_type": "execute_result"
    }
   ],
   "source": [
    "data.describe()"
   ]
  },
  {
   "cell_type": "markdown",
   "metadata": {},
   "source": [
    "Видно, что пропусков больше нет, среднее и медиана тоже не изменились."
   ]
  },
  {
   "cell_type": "markdown",
   "metadata": {},
   "source": [
    "Необходимо обработать категориальные признаки техникой OHE и масштабировать признаки, сразу уберем ненужные столбцы - индекс строки в данных, уникальный идентификатор клиента и фамилию."
   ]
  },
  {
   "cell_type": "code",
   "execution_count": 5,
   "metadata": {},
   "outputs": [
    {
     "name": "stdout",
     "output_type": "stream",
     "text": [
      "(6500, 11)\n",
      "(6500,)\n",
      "(3500, 11)\n",
      "(3500,)\n",
      "(3000, 11)\n",
      "(3000,)\n"
     ]
    },
    {
     "name": "stderr",
     "output_type": "stream",
     "text": [
      "/tmp/ipykernel_36/2779606821.py:14: SettingWithCopyWarning: \n",
      "A value is trying to be set on a copy of a slice from a DataFrame.\n",
      "Try using .loc[row_indexer,col_indexer] = value instead\n",
      "\n",
      "See the caveats in the documentation: https://pandas.pydata.org/pandas-docs/stable/user_guide/indexing.html#returning-a-view-versus-a-copy\n",
      "  features_train[numeric] = scaler.transform(features_train[numeric])\n",
      "/opt/conda/lib/python3.9/site-packages/pandas/core/indexing.py:1738: SettingWithCopyWarning: \n",
      "A value is trying to be set on a copy of a slice from a DataFrame.\n",
      "Try using .loc[row_indexer,col_indexer] = value instead\n",
      "\n",
      "See the caveats in the documentation: https://pandas.pydata.org/pandas-docs/stable/user_guide/indexing.html#returning-a-view-versus-a-copy\n",
      "  self._setitem_single_column(loc, value[:, i].tolist(), pi)\n",
      "/tmp/ipykernel_36/2779606821.py:15: SettingWithCopyWarning: \n",
      "A value is trying to be set on a copy of a slice from a DataFrame.\n",
      "Try using .loc[row_indexer,col_indexer] = value instead\n",
      "\n",
      "See the caveats in the documentation: https://pandas.pydata.org/pandas-docs/stable/user_guide/indexing.html#returning-a-view-versus-a-copy\n",
      "  features_valid[numeric] = scaler.transform(features_valid[numeric])\n",
      "/opt/conda/lib/python3.9/site-packages/pandas/core/indexing.py:1738: SettingWithCopyWarning: \n",
      "A value is trying to be set on a copy of a slice from a DataFrame.\n",
      "Try using .loc[row_indexer,col_indexer] = value instead\n",
      "\n",
      "See the caveats in the documentation: https://pandas.pydata.org/pandas-docs/stable/user_guide/indexing.html#returning-a-view-versus-a-copy\n",
      "  self._setitem_single_column(loc, value[:, i].tolist(), pi)\n",
      "/tmp/ipykernel_36/2779606821.py:16: SettingWithCopyWarning: \n",
      "A value is trying to be set on a copy of a slice from a DataFrame.\n",
      "Try using .loc[row_indexer,col_indexer] = value instead\n",
      "\n",
      "See the caveats in the documentation: https://pandas.pydata.org/pandas-docs/stable/user_guide/indexing.html#returning-a-view-versus-a-copy\n",
      "  features_test[numeric] = scaler.transform(features_test[numeric])\n",
      "/opt/conda/lib/python3.9/site-packages/pandas/core/indexing.py:1738: SettingWithCopyWarning: \n",
      "A value is trying to be set on a copy of a slice from a DataFrame.\n",
      "Try using .loc[row_indexer,col_indexer] = value instead\n",
      "\n",
      "See the caveats in the documentation: https://pandas.pydata.org/pandas-docs/stable/user_guide/indexing.html#returning-a-view-versus-a-copy\n",
      "  self._setitem_single_column(loc, value[:, i].tolist(), pi)\n"
     ]
    }
   ],
   "source": [
    "data_ohe = pd.get_dummies(data.drop(columns=['RowNumber', 'CustomerId', 'Surname']), drop_first=True)\n",
    "target = data_ohe['Exited']\n",
    "features = data_ohe.drop('Exited', axis=1)\n",
    "\n",
    "features_train, features_test, target_train, target_test = train_test_split(\n",
    "    features, target, test_size=0.30, random_state=12345)\n",
    "features_train, features_valid, target_train, target_valid = train_test_split(\n",
    "    features, target, test_size=0.35, random_state=12345)\n",
    "\n",
    "numeric = ['Age', 'Tenure', 'Balance', 'NumOfProducts', 'HasCrCard', 'IsActiveMember', 'EstimatedSalary']\n",
    "\n",
    "scaler = StandardScaler()\n",
    "scaler.fit(features_train[numeric])\n",
    "features_train[numeric] = scaler.transform(features_train[numeric])\n",
    "features_valid[numeric] = scaler.transform(features_valid[numeric])\n",
    "features_test[numeric] = scaler.transform(features_test[numeric])\n",
    "\n",
    "print(features_train.shape)\n",
    "print(target_train.shape)\n",
    "print(features_valid.shape)\n",
    "print(target_valid.shape)\n",
    "print(features_test.shape)\n",
    "print(target_test.shape)"
   ]
  },
  {
   "cell_type": "markdown",
   "metadata": {},
   "source": [
    "## Исследование задачи"
   ]
  },
  {
   "cell_type": "code",
   "execution_count": 6,
   "metadata": {},
   "outputs": [
    {
     "name": "stdout",
     "output_type": "stream",
     "text": [
      "Значение F1-меры дерева решений: 0.5318471337579617\n",
      "Значение AUC-ROC дерева решений: 0.7644751074255114\n",
      "Глубина дерева решений: 10\n"
     ]
    }
   ],
   "source": [
    "best_result = 0\n",
    "for depth in range(1, 12):\n",
    "    model = DecisionTreeClassifier(random_state=12345, max_depth = depth)\n",
    "    model.fit(features_train, target_train)\n",
    "    predicted_valid = model.predict(features_valid)\n",
    "    result = f1_score(target_valid, predicted_valid)\n",
    "    \n",
    "    probabilities_valid = model.predict_proba(features_valid)\n",
    "    probabilities_one_valid = probabilities_valid[:, 1]\n",
    "    auc_roc = roc_auc_score(target_valid, probabilities_one_valid)\n",
    "    if result > best_result:\n",
    "        best_depth = depth\n",
    "        best_result = result\n",
    "        best_auc_roc = auc_roc\n",
    "\n",
    " \n",
    "print(\"Значение F1-меры дерева решений:\", best_result)\n",
    "print(\"Значение AUC-ROC дерева решений:\", best_auc_roc)\n",
    "print(\"Глубина дерева решений:\", best_depth)"
   ]
  },
  {
   "cell_type": "code",
   "execution_count": 10,
   "metadata": {},
   "outputs": [
    {
     "name": "stdout",
     "output_type": "stream",
     "text": [
      "Значение F1-меры случайного леса: 0.5618556701030928\n",
      "Значение AUC-ROC случайного леса: 0.8486366663317315\n",
      "Значение est случайного леса: 77\n"
     ]
    }
   ],
   "source": [
    "best_result = 0\n",
    "for est in range(60, 81):\n",
    "    model = RandomForestClassifier(random_state=12345, n_estimators=est)\n",
    "    model.fit(features_train, target_train) \n",
    "    predicted_valid = model.predict(features_valid)\n",
    "    result = f1_score(target_valid, predicted_valid)\n",
    "    probabilities_valid = model.predict_proba(features_valid)\n",
    "    probabilities_one_valid = probabilities_valid[:, 1]\n",
    "    auc_roc = roc_auc_score(target_valid, probabilities_one_valid)\n",
    "    if result > best_result:\n",
    "        best_est = est\n",
    "        best_result = result\n",
    "        best_auc_roc = auc_roc\n",
    " \n",
    "print(\"Значение F1-меры случайного леса:\", best_result)\n",
    "print(\"Значение AUC-ROC случайного леса:\", best_auc_roc)\n",
    "print(\"Значение est случайного леса:\", best_est)"
   ]
  },
  {
   "cell_type": "code",
   "execution_count": 11,
   "metadata": {},
   "outputs": [
    {
     "name": "stdout",
     "output_type": "stream",
     "text": [
      "Значение F1-меры логистической регрессии: 0.2945891783567134\n",
      "ROC AUC логистической регрессии: 0.750097032671935\n"
     ]
    }
   ],
   "source": [
    "model = LogisticRegression(random_state=12345, solver='lbfgs', max_iter=1000) \n",
    "model.fit(features_train, target_train)\n",
    "predicted_valid = model.predict(features_valid)\n",
    "result = f1_score(target_valid, predicted_valid)\n",
    "probabilities_valid = model.predict_proba(features_valid)\n",
    "probabilities_one_valid = probabilities_valid[:, 1]\n",
    "auc_roc = roc_auc_score(target_valid, probabilities_one_valid)\n",
    "\n",
    "print(\"Значение F1-меры логистической регрессии:\", result)\n",
    "print(\"ROC AUC логистической регрессии:\", auc_roc)"
   ]
  },
  {
   "cell_type": "markdown",
   "metadata": {},
   "source": [
    "<b>Вывод:</b> в результате исследования лучшие результаты у случайного леса. Логистическая регрессия совсем низкой точности."
   ]
  },
  {
   "cell_type": "markdown",
   "metadata": {},
   "source": [
    "## Борьба с дисбалансом"
   ]
  },
  {
   "cell_type": "code",
   "execution_count": 7,
   "metadata": {},
   "outputs": [
    {
     "name": "stdout",
     "output_type": "stream",
     "text": [
      "(5197, 11)\n",
      "(1303, 11)\n",
      "(5197,)\n",
      "(1303,)\n"
     ]
    }
   ],
   "source": [
    "features_zeros = features_train[target_train == 0]\n",
    "features_ones = features_train[target_train == 1]\n",
    "target_zeros = target_train[target_train == 0]\n",
    "target_ones = target_train[target_train == 1]\n",
    "print(features_zeros.shape)\n",
    "print(features_ones.shape)\n",
    "print(target_zeros.shape)\n",
    "print(target_ones.shape)"
   ]
  },
  {
   "cell_type": "markdown",
   "metadata": {},
   "source": [
    "Видно, что в выборке дисбаланс классов. Попробуем:\n",
    "* уменьшить выборку в 0,25 раз;\n",
    "* увеличить выборку в 4 раза."
   ]
  },
  {
   "cell_type": "code",
   "execution_count": 8,
   "metadata": {},
   "outputs": [],
   "source": [
    "def downsample(features, target, fraction):\n",
    "    features_zeros = features[target == 0]\n",
    "    features_ones = features[target == 1]\n",
    "    target_zeros = target[target == 0]\n",
    "    target_ones = target[target == 1]\n",
    "\n",
    "    features_downsampled = pd.concat(\n",
    "        [features_zeros.sample(frac=fraction, random_state=12345)] + [features_ones])\n",
    "    target_downsampled = pd.concat(\n",
    "        [target_zeros.sample(frac=fraction, random_state=12345)] + [target_ones])\n",
    "    \n",
    "    features_downsampled, target_downsampled = shuffle(\n",
    "        features_downsampled, target_downsampled, random_state=12345)\n",
    "    \n",
    "    return features_downsampled, target_downsampled"
   ]
  },
  {
   "cell_type": "code",
   "execution_count": 14,
   "metadata": {},
   "outputs": [
    {
     "name": "stdout",
     "output_type": "stream",
     "text": [
      "Значение F1-меры дерева решений downsampled: 0.5944997074312462\n",
      "Значение AUC-ROC дерева решений downsampled: 0.8259374242701862\n",
      "Глубина дерева решений downsampled: 5\n"
     ]
    }
   ],
   "source": [
    "best_result = 0\n",
    "for depth in range(1, 12):\n",
    "    model = DecisionTreeClassifier(random_state=12345, max_depth = depth)\n",
    "    features_downsampled, target_downsampled = downsample(features_train, target_train, 0.25)\n",
    "    model.fit(features_downsampled, target_downsampled)\n",
    "    predicted_valid = model.predict(features_valid)\n",
    "    result = f1_score(target_valid, predicted_valid)\n",
    "    \n",
    "    probabilities_valid = model.predict_proba(features_valid)\n",
    "    probabilities_one_valid = probabilities_valid[:, 1]\n",
    "    auc_roc = roc_auc_score(target_valid, probabilities_one_valid)\n",
    "    if result > best_result:\n",
    "        best_depth = depth\n",
    "        best_result = result\n",
    "        best_auc_roc = auc_roc\n",
    "\n",
    " \n",
    "print(\"Значение F1-меры дерева решений downsampled:\", best_result)\n",
    "print(\"Значение AUC-ROC дерева решений downsampled:\", best_auc_roc)\n",
    "print(\"Глубина дерева решений downsampled:\", best_depth)"
   ]
  },
  {
   "cell_type": "code",
   "execution_count": 15,
   "metadata": {},
   "outputs": [
    {
     "name": "stdout",
     "output_type": "stream",
     "text": [
      "Значение F1-меры случайного леса downsampled: 0.5868131868131868\n",
      "Значение AUC-ROC случайного леса downsampled: 0.8415850508608818\n",
      "Значение est случайного леса downsampled: 56\n"
     ]
    }
   ],
   "source": [
    "best_result = 0\n",
    "for est in range(10, 101):\n",
    "    model = RandomForestClassifier(random_state=12345, n_estimators=est)\n",
    "    features_downsampled, target_downsampled = downsample(features_train, target_train, 0.25)\n",
    "    model.fit(features_downsampled, target_downsampled)\n",
    "    predicted_valid = model.predict(features_valid)\n",
    "    result = f1_score(target_valid, predicted_valid)\n",
    "    probabilities_valid = model.predict_proba(features_valid)\n",
    "    probabilities_one_valid = probabilities_valid[:, 1]\n",
    "    auc_roc = roc_auc_score(target_valid, probabilities_one_valid)\n",
    "    if result > best_result:\n",
    "        best_est = est\n",
    "        best_result = result\n",
    "        best_auc_roc = auc_roc\n",
    " \n",
    "print(\"Значение F1-меры случайного леса downsampled:\", best_result)\n",
    "print(\"Значение AUC-ROC случайного леса downsampled:\", best_auc_roc)\n",
    "print(\"Значение est случайного леса downsampled:\", best_est)"
   ]
  },
  {
   "cell_type": "code",
   "execution_count": 16,
   "metadata": {},
   "outputs": [
    {
     "name": "stdout",
     "output_type": "stream",
     "text": [
      "Значение F1-меры логистической регрессии downsampled: 0.47647058823529415\n",
      "AUC-ROC логистической регрессии downsampled: 0.7485317035784862\n"
     ]
    }
   ],
   "source": [
    "model = LogisticRegression(random_state=12345, solver='lbfgs', max_iter=1000) \n",
    "features_downsampled, target_downsampled = downsample(features_train, target_train, 0.25)\n",
    "model.fit(features_downsampled, target_downsampled)\n",
    "predicted_valid = model.predict(features_valid)\n",
    "result = f1_score(target_valid, predicted_valid)\n",
    "probabilities_valid = model.predict_proba(features_valid)\n",
    "probabilities_one_valid = probabilities_valid[:, 1]\n",
    "auc_roc = roc_auc_score(target_valid, probabilities_one_valid)\n",
    "\n",
    "print(\"Значение F1-меры логистической регрессии downsampled:\", result)\n",
    "print(\"AUC-ROC логистической регрессии downsampled:\", auc_roc)"
   ]
  },
  {
   "cell_type": "markdown",
   "metadata": {},
   "source": [
    "<b>Вывод:</b> при уменьшении выборки, лучшие результаты у модели дерева решений. Значение AUC-ROC у модели дерева решений выросла вместе с F1-мерой, а у модели случайного леса - не изменилась."
   ]
  },
  {
   "cell_type": "code",
   "execution_count": 9,
   "metadata": {},
   "outputs": [],
   "source": [
    "def upsample(features, target, repeat):\n",
    "    features_zeros = features[target == 0]\n",
    "    features_ones = features[target == 1]\n",
    "    target_zeros = target[target == 0]\n",
    "    target_ones = target[target == 1]\n",
    "\n",
    "    features_upsampled = pd.concat([features_zeros] + [features_ones] * repeat)\n",
    "    target_upsampled = pd.concat([target_zeros] + [target_ones] * repeat)\n",
    "    \n",
    "    features_upsampled, target_upsampled = shuffle(\n",
    "        features_upsampled, target_upsampled, random_state=12345)\n",
    "    \n",
    "    return features_upsampled, target_upsampled"
   ]
  },
  {
   "cell_type": "code",
   "execution_count": 18,
   "metadata": {},
   "outputs": [
    {
     "name": "stdout",
     "output_type": "stream",
     "text": [
      "Значение F1-меры дерева решений upsampled: 0.5875402792696025\n",
      "Значение AUC-ROC дерева решений upsampled: 0.8294404514925299\n",
      "Глубина дерева решений upsampled: 6\n"
     ]
    }
   ],
   "source": [
    "best_result = 0\n",
    "for depth in range(1, 12):\n",
    "    model = DecisionTreeClassifier(random_state=12345, max_depth = depth)\n",
    "    features_upsampled, target_upsampled = upsample(features_train, target_train, 4)\n",
    "    model.fit(features_upsampled, target_upsampled)\n",
    "    predicted_valid = model.predict(features_valid)\n",
    "    result = f1_score(target_valid, predicted_valid)\n",
    "    \n",
    "    probabilities_valid = model.predict_proba(features_valid)\n",
    "    probabilities_one_valid = probabilities_valid[:, 1]\n",
    "    auc_roc = roc_auc_score(target_valid, probabilities_one_valid)\n",
    "    if result > best_result:\n",
    "        best_depth = depth\n",
    "        best_result = result\n",
    "        best_auc_roc = auc_roc\n",
    "\n",
    " \n",
    "print(\"Значение F1-меры дерева решений upsampled:\", best_result)\n",
    "print(\"Значение AUC-ROC дерева решений upsampled:\", best_auc_roc)\n",
    "print(\"Глубина дерева решений upsampled:\", best_depth)"
   ]
  },
  {
   "cell_type": "code",
   "execution_count": 19,
   "metadata": {},
   "outputs": [
    {
     "name": "stdout",
     "output_type": "stream",
     "text": [
      "Значение F1-меры случайного леса upsampled: 0.6057401812688822\n",
      "Значение AUC-ROC случайного леса upsampled: 0.8415503259706716\n",
      "Значение est случайного леса upsampled: 64\n"
     ]
    }
   ],
   "source": [
    "best_result = 0\n",
    "for est in range(10, 101):\n",
    "    model = RandomForestClassifier(random_state=12345, n_estimators=est)\n",
    "    features_upsampled, target_upsampled = upsample(features_train, target_train, 4)\n",
    "    model.fit(features_upsampled, target_upsampled)\n",
    "    predicted_valid = model.predict(features_valid)\n",
    "    result = f1_score(target_valid, predicted_valid)\n",
    "    probabilities_valid = model.predict_proba(features_valid)\n",
    "    probabilities_one_valid = probabilities_valid[:, 1]\n",
    "    auc_roc = roc_auc_score(target_valid, probabilities_one_valid)\n",
    "    if result > best_result:\n",
    "        best_est = est\n",
    "        best_result = result\n",
    "        best_auc_roc = auc_roc\n",
    " \n",
    "print(\"Значение F1-меры случайного леса upsampled:\", best_result)\n",
    "print(\"Значение AUC-ROC случайного леса upsampled:\", best_auc_roc)\n",
    "print(\"Значение est случайного леса upsampled:\", best_est)"
   ]
  },
  {
   "cell_type": "code",
   "execution_count": 20,
   "metadata": {},
   "outputs": [
    {
     "name": "stdout",
     "output_type": "stream",
     "text": [
      "Значение F1-меры логистической регрессии upsampled: 0.486328125\n",
      "ROC AUC логистической регрессии upsampled: 0.7546743150084423\n"
     ]
    }
   ],
   "source": [
    "model = LogisticRegression(random_state=12345, solver='lbfgs', max_iter=1000) \n",
    "features_upsampled, target_upsampled = upsample(features_train, target_train, 4)\n",
    "model.fit(features_upsampled, target_upsampled)\n",
    "predicted_valid = model.predict(features_valid)\n",
    "result = f1_score(target_valid, predicted_valid)\n",
    "probabilities_valid = model.predict_proba(features_valid)\n",
    "probabilities_one_valid = probabilities_valid[:, 1]\n",
    "auc_roc = roc_auc_score(target_valid, probabilities_one_valid)\n",
    "\n",
    "print(\"Значение F1-меры логистической регрессии upsampled:\", result)\n",
    "print(\"ROC AUC логистической регрессии upsampled:\", auc_roc)"
   ]
  },
  {
   "cell_type": "markdown",
   "metadata": {},
   "source": [
    "<b>Вывод:</b> при увеличении выборки, лучшие результаты у модели случайного леса. "
   ]
  },
  {
   "cell_type": "markdown",
   "metadata": {},
   "source": [
    "<b>Вывод:</b> в результате борьбы с дисбалансом определилось, что лучшая модель - случайный лес с параметром est = 64 и лучший способ борьбы с дисбалансом - увеличение выборки в 4 раза"
   ]
  },
  {
   "cell_type": "markdown",
   "metadata": {},
   "source": [
    "## Тестирование модели"
   ]
  },
  {
   "cell_type": "code",
   "execution_count": 18,
   "metadata": {},
   "outputs": [
    {
     "name": "stdout",
     "output_type": "stream",
     "text": [
      "Значение F1-меры на валидационной выборке: 0.6059678653404744\n",
      "Значение F1-меры на тестовой выборке: 0.6046511627906977\n",
      "AUC-ROC: 0.8456612637976373\n"
     ]
    }
   ],
   "source": [
    "model = RandomForestClassifier(random_state=12345, n_estimators=64, class_weight='balanced')\n",
    "features_upsampled, target_upsampled = upsample(features_train, target_train, 4)\n",
    "model.fit(features_upsampled, target_upsampled)\n",
    "predicted_valid = model.predict(features_valid)\n",
    "result_downsampled = f1_score(target_valid, predicted_valid)\n",
    "\n",
    "predicted_test = model.predict(features_test)\n",
    "result_test = f1_score(target_test, predicted_test)\n",
    "\n",
    "probabilities = model.predict_proba(features_test)\n",
    "probabilities_one = probabilities[:, 1]\n",
    "auc_roc = roc_auc_score(target_test, probabilities_one)\n",
    " \n",
    "print(\"Значение F1-меры на валидационной выборке:\", result_downsampled)\n",
    "print(\"Значение F1-меры на тестовой выборке:\", result_test)\n",
    "print('AUC-ROC:', auc_roc)"
   ]
  },
  {
   "cell_type": "markdown",
   "metadata": {},
   "source": [
    "<b>Вывод:</b> мы обучили модели, исследовали их качество, меняя гиперпараметры без учета дисбаланса и определили, что наиболее точная модель случайного леса. Также, исследовали модели с учетом дисбаланса - применили уменьшение и увеличение выборки. Проверили качество модели на тестовой выборке, оно нас устроило, удалось достичь F1-меры 0.60.  Значение AUC-ROC у модели дерева решений выросла вместе с F1-мерой, а у модели случайного леса - не изменялась."
   ]
  },
  {
   "cell_type": "markdown",
   "metadata": {},
   "source": [
    "Посмотрим на важность признаков"
   ]
  },
  {
   "cell_type": "code",
   "execution_count": 17,
   "metadata": {
    "scrolled": true
   },
   "outputs": [
    {
     "data": {
      "image/png": "[encoded data removed]",
      "text/plain": [
       "<Figure size 432x288 with 1 Axes>"
      ]
     },
     "metadata": {
      "needs_background": "light"
     },
     "output_type": "display_data"
    }
   ],
   "source": [
    "importances = model.feature_importances_\n",
    "forest_importances = pd.Series(importances, index=features.columns)\n",
    "\n",
    "fig, ax = plt.subplots()\n",
    "forest_importances.plot.bar(yerr=std, ax=ax)\n",
    "ax.set_title(\"Feature importances using MDI\")\n",
    "ax.set_ylabel(\"Mean decrease in impurity\")\n",
    "fig.tight_layout()"
   ]
  },
  {
   "cell_type": "markdown",
   "metadata": {},
   "source": [
    "По графику видно, что большее значение на отток клиентов оказывает возраст клиента. Затем примерно одинаковую важность имеют кредитный рейтинг, баланс на счете, зарплата и количество продуктов банка, используемых клиентом. Еще небольшой вес имеет сколько лет человек является клиентом банка, а остальные признаки имеют совсем низную важность."
   ]
  },
  {
   "cell_type": "code",
   "execution_count": null,
   "metadata": {},
   "outputs": [],
   "source": []
  }
 ],
 "metadata": {
  "ExecuteTimeLog": [
   {
    "duration": 372,
    "start_time": "2022-04-09T16:04:40.916Z"
   },
   {
    "duration": 36,
    "start_time": "2022-04-09T16:04:41.293Z"
   },
   {
    "duration": 8,
    "start_time": "2022-04-09T16:04:57.708Z"
   },
   {
    "duration": 13,
    "start_time": "2022-04-09T16:05:06.446Z"
   },
   {
    "duration": 19,
    "start_time": "2022-04-09T16:05:24.571Z"
   },
   {
    "duration": 782,
    "start_time": "2022-04-09T16:08:40.127Z"
   },
   {
    "duration": 87,
    "start_time": "2022-04-09T16:14:53.507Z"
   },
   {
    "duration": 22,
    "start_time": "2022-04-09T16:14:58.867Z"
   },
   {
    "duration": 36,
    "start_time": "2022-04-09T16:31:13.510Z"
   },
   {
    "duration": 718,
    "start_time": "2022-04-09T16:31:20.993Z"
   },
   {
    "duration": 5,
    "start_time": "2022-04-09T16:31:32.963Z"
   },
   {
    "duration": 36,
    "start_time": "2022-04-09T16:31:46.295Z"
   },
   {
    "duration": 10,
    "start_time": "2022-04-09T16:32:58.170Z"
   },
   {
    "duration": 14,
    "start_time": "2022-04-09T16:33:04.052Z"
   },
   {
    "duration": 3,
    "start_time": "2022-04-09T16:37:14.623Z"
   },
   {
    "duration": 53,
    "start_time": "2022-04-09T16:37:16.190Z"
   },
   {
    "duration": 51,
    "start_time": "2022-04-10T10:28:22.159Z"
   },
   {
    "duration": 1016,
    "start_time": "2022-04-10T10:28:28.275Z"
   },
   {
    "duration": 29,
    "start_time": "2022-04-10T10:28:29.293Z"
   },
   {
    "duration": 13,
    "start_time": "2022-04-10T10:28:29.349Z"
   },
   {
    "duration": 18,
    "start_time": "2022-04-10T10:28:29.909Z"
   },
   {
    "duration": 37,
    "start_time": "2022-04-10T10:28:30.840Z"
   },
   {
    "duration": 5,
    "start_time": "2022-04-10T10:28:31.115Z"
   },
   {
    "duration": 38,
    "start_time": "2022-04-10T10:28:31.567Z"
   },
   {
    "duration": 75,
    "start_time": "2022-04-10T10:28:33.523Z"
   },
   {
    "duration": 50,
    "start_time": "2022-04-10T10:29:02.986Z"
   },
   {
    "duration": 43,
    "start_time": "2022-04-10T10:39:26.511Z"
   },
   {
    "duration": 3,
    "start_time": "2022-04-10T10:41:49.796Z"
   },
   {
    "duration": 1082,
    "start_time": "2022-04-10T10:47:46.267Z"
   },
   {
    "duration": 827,
    "start_time": "2022-04-10T10:48:27.621Z"
   },
   {
    "duration": 64,
    "start_time": "2022-04-10T10:49:23.221Z"
   },
   {
    "duration": 392,
    "start_time": "2022-04-10T10:49:47.809Z"
   },
   {
    "duration": 400,
    "start_time": "2022-04-10T10:50:05.300Z"
   },
   {
    "duration": 1132,
    "start_time": "2022-04-10T10:52:23.822Z"
   },
   {
    "duration": 61,
    "start_time": "2022-04-10T10:53:39.861Z"
   },
   {
    "duration": 394,
    "start_time": "2022-04-10T10:53:40.219Z"
   },
   {
    "duration": 80,
    "start_time": "2022-04-10T10:56:16.299Z"
   },
   {
    "duration": 75,
    "start_time": "2022-04-10T10:59:30.326Z"
   },
   {
    "duration": 8978,
    "start_time": "2022-04-10T11:02:03.356Z"
   },
   {
    "duration": 472,
    "start_time": "2022-04-10T11:02:32.941Z"
   },
   {
    "duration": 1561,
    "start_time": "2022-04-10T11:02:39.340Z"
   },
   {
    "duration": 1197,
    "start_time": "2022-04-10T11:02:45.523Z"
   },
   {
    "duration": 4,
    "start_time": "2022-04-10T11:12:58.884Z"
   },
   {
    "duration": 1391,
    "start_time": "2022-04-10T11:13:52.771Z"
   },
   {
    "duration": 3,
    "start_time": "2022-04-10T11:14:11.728Z"
   },
   {
    "duration": 3038,
    "start_time": "2022-04-10T11:14:18.311Z"
   },
   {
    "duration": 2926,
    "start_time": "2022-04-10T11:16:22.731Z"
   },
   {
    "duration": 4,
    "start_time": "2022-04-10T11:18:12.026Z"
   },
   {
    "duration": 3016,
    "start_time": "2022-04-10T11:19:51.633Z"
   },
   {
    "duration": 2118,
    "start_time": "2022-04-10T11:20:04.237Z"
   },
   {
    "duration": 2702,
    "start_time": "2022-04-10T11:20:07.653Z"
   },
   {
    "duration": 1941,
    "start_time": "2022-04-10T11:21:55.477Z"
   },
   {
    "duration": 147,
    "start_time": "2022-04-10T11:22:37.585Z"
   },
   {
    "duration": 22,
    "start_time": "2022-04-10T11:23:04.001Z"
   },
   {
    "duration": 141,
    "start_time": "2022-04-10T11:23:17.581Z"
   },
   {
    "duration": 142,
    "start_time": "2022-04-10T11:23:23.817Z"
   },
   {
    "duration": 56,
    "start_time": "2022-04-10T11:27:27.538Z"
   },
   {
    "duration": 453,
    "start_time": "2022-04-10T11:28:35.259Z"
   },
   {
    "duration": 456,
    "start_time": "2022-04-10T11:28:47.773Z"
   },
   {
    "duration": 1166,
    "start_time": "2022-04-10T11:29:08.066Z"
   },
   {
    "duration": 1450,
    "start_time": "2022-04-10T11:29:21.538Z"
   },
   {
    "duration": 3563,
    "start_time": "2022-04-10T11:29:36.474Z"
   },
   {
    "duration": 6655,
    "start_time": "2022-04-10T11:29:54.137Z"
   },
   {
    "duration": 6075,
    "start_time": "2022-04-10T11:30:13.122Z"
   },
   {
    "duration": 167,
    "start_time": "2022-04-10T11:30:34.299Z"
   },
   {
    "duration": 1213,
    "start_time": "2022-04-10T11:31:37.036Z"
   },
   {
    "duration": 2966,
    "start_time": "2022-04-10T11:32:14.937Z"
   },
   {
    "duration": 3582,
    "start_time": "2022-04-10T11:32:30.277Z"
   },
   {
    "duration": 44,
    "start_time": "2022-04-10T11:37:05.165Z"
   },
   {
    "duration": 47,
    "start_time": "2022-04-10T11:46:43.946Z"
   },
   {
    "duration": 44,
    "start_time": "2022-04-10T11:47:44.328Z"
   },
   {
    "duration": 47,
    "start_time": "2022-04-10T11:48:09.379Z"
   },
   {
    "duration": 20,
    "start_time": "2022-04-10T11:48:41.441Z"
   },
   {
    "duration": 1138,
    "start_time": "2022-04-10T11:49:00.852Z"
   },
   {
    "duration": 24,
    "start_time": "2022-04-10T11:49:03.547Z"
   },
   {
    "duration": 15,
    "start_time": "2022-04-10T11:49:03.890Z"
   },
   {
    "duration": 18,
    "start_time": "2022-04-10T11:49:04.230Z"
   },
   {
    "duration": 36,
    "start_time": "2022-04-10T11:49:04.621Z"
   },
   {
    "duration": 4,
    "start_time": "2022-04-10T11:49:05.163Z"
   },
   {
    "duration": 37,
    "start_time": "2022-04-10T11:49:05.970Z"
   },
   {
    "duration": 20,
    "start_time": "2022-04-10T11:49:33.680Z"
   },
   {
    "duration": 48,
    "start_time": "2022-04-10T11:49:36.351Z"
   },
   {
    "duration": 44,
    "start_time": "2022-04-10T11:50:27.564Z"
   },
   {
    "duration": 43,
    "start_time": "2022-04-10T11:50:49.918Z"
   },
   {
    "duration": 45,
    "start_time": "2022-04-10T11:51:30.249Z"
   },
   {
    "duration": 44,
    "start_time": "2022-04-10T11:51:41.641Z"
   },
   {
    "duration": 45,
    "start_time": "2022-04-10T11:51:48.261Z"
   },
   {
    "duration": 41,
    "start_time": "2022-04-10T11:52:33.382Z"
   },
   {
    "duration": 44,
    "start_time": "2022-04-10T11:53:05.909Z"
   },
   {
    "duration": 43,
    "start_time": "2022-04-10T11:53:10.386Z"
   },
   {
    "duration": 43,
    "start_time": "2022-04-10T11:53:15.246Z"
   },
   {
    "duration": 42,
    "start_time": "2022-04-10T11:53:34.138Z"
   },
   {
    "duration": 42,
    "start_time": "2022-04-10T11:53:55.559Z"
   },
   {
    "duration": 45,
    "start_time": "2022-04-10T11:54:13.510Z"
   },
   {
    "duration": 45,
    "start_time": "2022-04-10T11:55:16.891Z"
   },
   {
    "duration": 46,
    "start_time": "2022-04-10T11:55:26.596Z"
   },
   {
    "duration": 47,
    "start_time": "2022-04-10T11:55:32.102Z"
   },
   {
    "duration": 44,
    "start_time": "2022-04-10T11:56:09.591Z"
   },
   {
    "duration": 9,
    "start_time": "2022-04-10T11:57:50.739Z"
   },
   {
    "duration": 8,
    "start_time": "2022-04-10T11:59:06.242Z"
   },
   {
    "duration": 124,
    "start_time": "2022-04-10T12:02:03.897Z"
   },
   {
    "duration": 40,
    "start_time": "2022-04-10T12:02:30.224Z"
   },
   {
    "duration": 4,
    "start_time": "2022-04-10T12:02:34.118Z"
   },
   {
    "duration": 51,
    "start_time": "2022-04-10T12:02:35.170Z"
   },
   {
    "duration": 900,
    "start_time": "2022-04-10T12:04:27.107Z"
   },
   {
    "duration": 2828,
    "start_time": "2022-04-10T12:05:13.121Z"
   },
   {
    "duration": 31,
    "start_time": "2022-04-10T12:07:31.361Z"
   },
   {
    "duration": 29,
    "start_time": "2022-04-10T12:08:05.267Z"
   },
   {
    "duration": 407,
    "start_time": "2022-04-10T12:08:49.249Z"
   },
   {
    "duration": 5,
    "start_time": "2022-04-10T12:09:56.265Z"
   },
   {
    "duration": 140146,
    "start_time": "2022-04-10T12:10:01.436Z"
   },
   {
    "duration": 8003,
    "start_time": "2022-04-10T12:12:52.565Z"
   },
   {
    "duration": 2179,
    "start_time": "2022-04-10T12:13:23.368Z"
   },
   {
    "duration": 14869,
    "start_time": "2022-04-10T12:13:38.859Z"
   },
   {
    "duration": 20355,
    "start_time": "2022-04-10T12:14:08.029Z"
   },
   {
    "duration": 11174,
    "start_time": "2022-04-10T12:14:48.807Z"
   },
   {
    "duration": 396,
    "start_time": "2022-04-10T12:15:08.603Z"
   },
   {
    "duration": 2794,
    "start_time": "2022-04-10T12:15:35.514Z"
   },
   {
    "duration": 541,
    "start_time": "2022-04-10T12:15:54.831Z"
   },
   {
    "duration": 11371,
    "start_time": "2022-04-10T12:16:13.487Z"
   },
   {
    "duration": 394,
    "start_time": "2022-04-10T12:16:34.814Z"
   },
   {
    "duration": 1130,
    "start_time": "2022-04-10T12:18:04.834Z"
   },
   {
    "duration": 26,
    "start_time": "2022-04-10T12:18:05.997Z"
   },
   {
    "duration": 14,
    "start_time": "2022-04-10T12:18:06.276Z"
   },
   {
    "duration": 18,
    "start_time": "2022-04-10T12:18:07.364Z"
   },
   {
    "duration": 39,
    "start_time": "2022-04-10T12:18:09.324Z"
   },
   {
    "duration": 4,
    "start_time": "2022-04-10T12:18:09.805Z"
   },
   {
    "duration": 37,
    "start_time": "2022-04-10T12:18:10.719Z"
   },
   {
    "duration": 49,
    "start_time": "2022-04-10T12:18:17.407Z"
   },
   {
    "duration": 309,
    "start_time": "2022-04-10T12:18:20.213Z"
   },
   {
    "duration": 244,
    "start_time": "2022-04-10T12:19:15.941Z"
   },
   {
    "duration": 11588,
    "start_time": "2022-04-10T12:19:58.181Z"
   },
   {
    "duration": 141192,
    "start_time": "2022-04-10T12:21:24.816Z"
   },
   {
    "duration": 0,
    "start_time": "2022-04-10T12:23:46.010Z"
   },
   {
    "duration": 3782,
    "start_time": "2022-04-10T12:25:16.367Z"
   },
   {
    "duration": 102,
    "start_time": "2022-04-10T12:25:20.152Z"
   },
   {
    "duration": 4,
    "start_time": "2022-04-10T12:25:22.980Z"
   },
   {
    "duration": 196,
    "start_time": "2022-04-10T12:26:08.912Z"
   },
   {
    "duration": 6503,
    "start_time": "2022-04-10T12:26:12.881Z"
   },
   {
    "duration": 520,
    "start_time": "2022-04-10T12:26:21.433Z"
   },
   {
    "duration": 2452,
    "start_time": "2022-04-10T12:26:33.101Z"
   },
   {
    "duration": 22352,
    "start_time": "2022-04-10T12:26:49.288Z"
   },
   {
    "duration": 32,
    "start_time": "2022-04-10T12:27:34.543Z"
   },
   {
    "duration": 293,
    "start_time": "2022-04-10T12:27:52.728Z"
   },
   {
    "duration": 1687,
    "start_time": "2022-04-10T12:29:18.562Z"
   },
   {
    "duration": 216,
    "start_time": "2022-04-10T12:30:06.193Z"
   },
   {
    "duration": 193,
    "start_time": "2022-04-10T12:30:16.723Z"
   },
   {
    "duration": 1066,
    "start_time": "2022-04-10T12:30:28.191Z"
   },
   {
    "duration": 24,
    "start_time": "2022-04-10T12:30:29.259Z"
   },
   {
    "duration": 15,
    "start_time": "2022-04-10T12:30:29.284Z"
   },
   {
    "duration": 19,
    "start_time": "2022-04-10T12:30:29.301Z"
   },
   {
    "duration": 53,
    "start_time": "2022-04-10T12:30:29.321Z"
   },
   {
    "duration": 5,
    "start_time": "2022-04-10T12:30:29.376Z"
   },
   {
    "duration": 39,
    "start_time": "2022-04-10T12:30:29.382Z"
   },
   {
    "duration": 69,
    "start_time": "2022-04-10T12:30:29.423Z"
   },
   {
    "duration": 250,
    "start_time": "2022-04-10T12:30:29.494Z"
   },
   {
    "duration": 11142,
    "start_time": "2022-04-10T12:30:29.747Z"
   },
   {
    "duration": 3459,
    "start_time": "2022-04-10T12:30:40.890Z"
   },
   {
    "duration": 99,
    "start_time": "2022-04-10T12:30:44.352Z"
   },
   {
    "duration": 4,
    "start_time": "2022-04-10T12:30:44.453Z"
   },
   {
    "duration": 198,
    "start_time": "2022-04-10T12:30:44.459Z"
   },
   {
    "duration": 22284,
    "start_time": "2022-04-10T12:30:44.659Z"
   },
   {
    "duration": 1006,
    "start_time": "2022-04-10T12:31:06.945Z"
   },
   {
    "duration": 119,
    "start_time": "2022-04-10T12:31:07.954Z"
   },
   {
    "duration": 305,
    "start_time": "2022-04-10T12:31:08.075Z"
   },
   {
    "duration": 29,
    "start_time": "2022-04-10T12:33:34.518Z"
   },
   {
    "duration": 289,
    "start_time": "2022-04-10T12:33:35.374Z"
   },
   {
    "duration": 5,
    "start_time": "2022-04-10T12:34:22.268Z"
   },
   {
    "duration": 327,
    "start_time": "2022-04-10T12:35:49.392Z"
   },
   {
    "duration": 52669,
    "start_time": "2022-04-10T12:35:49.863Z"
   },
   {
    "duration": 2115,
    "start_time": "2022-04-10T12:36:42.534Z"
   },
   {
    "duration": 778,
    "start_time": "2022-04-10T12:37:17.022Z"
   },
   {
    "duration": 6,
    "start_time": "2022-04-10T12:41:37.797Z"
   },
   {
    "duration": 53,
    "start_time": "2022-04-10T12:42:13.777Z"
   },
   {
    "duration": 8,
    "start_time": "2022-04-10T12:42:32.205Z"
   },
   {
    "duration": 1122,
    "start_time": "2022-04-10T12:52:24.063Z"
   },
   {
    "duration": 25,
    "start_time": "2022-04-10T12:52:25.187Z"
   },
   {
    "duration": 14,
    "start_time": "2022-04-10T12:52:25.213Z"
   },
   {
    "duration": 26,
    "start_time": "2022-04-10T12:52:25.229Z"
   },
   {
    "duration": 38,
    "start_time": "2022-04-10T12:52:25.257Z"
   },
   {
    "duration": 5,
    "start_time": "2022-04-10T12:52:25.296Z"
   },
   {
    "duration": 53,
    "start_time": "2022-04-10T12:52:25.302Z"
   },
   {
    "duration": 51,
    "start_time": "2022-04-10T12:52:25.356Z"
   },
   {
    "duration": 252,
    "start_time": "2022-04-10T12:52:25.408Z"
   },
   {
    "duration": 11108,
    "start_time": "2022-04-10T12:52:25.662Z"
   },
   {
    "duration": 3578,
    "start_time": "2022-04-10T12:52:36.771Z"
   },
   {
    "duration": 97,
    "start_time": "2022-04-10T12:52:40.351Z"
   },
   {
    "duration": 16,
    "start_time": "2022-04-10T12:52:40.450Z"
   },
   {
    "duration": 222,
    "start_time": "2022-04-10T12:52:40.468Z"
   },
   {
    "duration": 22007,
    "start_time": "2022-04-10T12:52:40.692Z"
   },
   {
    "duration": 849,
    "start_time": "2022-04-10T12:53:02.700Z"
   },
   {
    "duration": 97,
    "start_time": "2022-04-10T12:53:03.551Z"
   },
   {
    "duration": 340,
    "start_time": "2022-04-10T12:53:03.650Z"
   },
   {
    "duration": 51789,
    "start_time": "2022-04-10T12:53:03.992Z"
   },
   {
    "duration": 1967,
    "start_time": "2022-04-10T12:53:55.782Z"
   },
   {
    "duration": 806,
    "start_time": "2022-04-10T12:53:57.751Z"
   },
   {
    "duration": 1147,
    "start_time": "2022-04-10T13:00:08.232Z"
   },
   {
    "duration": 25,
    "start_time": "2022-04-10T13:00:09.381Z"
   },
   {
    "duration": 14,
    "start_time": "2022-04-10T13:00:09.408Z"
   },
   {
    "duration": 28,
    "start_time": "2022-04-10T13:00:09.423Z"
   },
   {
    "duration": 38,
    "start_time": "2022-04-10T13:00:09.453Z"
   },
   {
    "duration": 6,
    "start_time": "2022-04-10T13:00:09.492Z"
   },
   {
    "duration": 58,
    "start_time": "2022-04-10T13:00:09.499Z"
   },
   {
    "duration": 50,
    "start_time": "2022-04-10T13:00:09.559Z"
   },
   {
    "duration": 263,
    "start_time": "2022-04-10T13:00:09.611Z"
   },
   {
    "duration": 11424,
    "start_time": "2022-04-10T13:00:09.876Z"
   },
   {
    "duration": 3451,
    "start_time": "2022-04-10T13:00:21.302Z"
   },
   {
    "duration": 102,
    "start_time": "2022-04-10T13:00:24.755Z"
   },
   {
    "duration": 7,
    "start_time": "2022-04-10T13:00:24.859Z"
   },
   {
    "duration": 213,
    "start_time": "2022-04-10T13:00:24.949Z"
   },
   {
    "duration": 22617,
    "start_time": "2022-04-10T13:00:25.164Z"
   },
   {
    "duration": 1266,
    "start_time": "2022-04-10T13:00:47.783Z"
   },
   {
    "duration": 96,
    "start_time": "2022-04-10T13:00:49.051Z"
   },
   {
    "duration": 344,
    "start_time": "2022-04-10T13:00:49.149Z"
   },
   {
    "duration": 52949,
    "start_time": "2022-04-10T13:00:49.495Z"
   },
   {
    "duration": 2004,
    "start_time": "2022-04-10T13:01:42.445Z"
   },
   {
    "duration": 852,
    "start_time": "2022-04-10T13:01:44.451Z"
   },
   {
    "duration": 620,
    "start_time": "2022-04-10T22:21:31.952Z"
   },
   {
    "duration": 1053,
    "start_time": "2022-04-10T22:21:45.574Z"
   },
   {
    "duration": 30,
    "start_time": "2022-04-10T22:21:47.110Z"
   },
   {
    "duration": 5,
    "start_time": "2022-04-10T22:21:51.039Z"
   },
   {
    "duration": 57,
    "start_time": "2022-04-10T22:21:55.767Z"
   },
   {
    "duration": 267,
    "start_time": "2022-04-10T22:22:01.535Z"
   },
   {
    "duration": 11,
    "start_time": "2022-04-10T22:22:07.694Z"
   },
   {
    "duration": 5,
    "start_time": "2022-04-10T22:22:09.434Z"
   },
   {
    "duration": 5,
    "start_time": "2022-04-10T22:22:13.522Z"
   },
   {
    "duration": 838,
    "start_time": "2022-04-10T22:22:18.745Z"
   },
   {
    "duration": 17,
    "start_time": "2022-04-10T22:24:02.023Z"
   },
   {
    "duration": 114,
    "start_time": "2022-04-10T22:26:23.466Z"
   },
   {
    "duration": 389,
    "start_time": "2022-04-10T22:27:49.237Z"
   },
   {
    "duration": 14,
    "start_time": "2022-04-10T22:28:26.903Z"
   },
   {
    "duration": 260,
    "start_time": "2022-04-10T22:28:33.030Z"
   },
   {
    "duration": 19,
    "start_time": "2022-04-10T22:29:20.831Z"
   },
   {
    "duration": 301,
    "start_time": "2022-04-10T22:29:36.660Z"
   },
   {
    "duration": 806,
    "start_time": "2022-04-10T22:33:47.155Z"
   }
  ],
  "kernelspec": {
   "display_name": "Python 3 (ipykernel)",
   "language": "python",
   "name": "python3"
  },
  "language_info": {
   "codemirror_mode": {
    "name": "ipython",
    "version": 3
   },
   "file_extension": ".py",
   "mimetype": "text/x-python",
   "name": "python",
   "nbconvert_exporter": "python",
   "pygments_lexer": "ipython3",
   "version": "3.8.8"
  },
  "toc": {
   "base_numbering": 1,
   "nav_menu": {},
   "number_sections": true,
   "sideBar": true,
   "skip_h1_title": true,
   "title_cell": "Содержание",
   "title_sidebar": "Contents",
   "toc_cell": true,
   "toc_position": {},
   "toc_section_display": true,
   "toc_window_display": true
  }
 },
 "nbformat": 4,
 "nbformat_minor": 2
}
